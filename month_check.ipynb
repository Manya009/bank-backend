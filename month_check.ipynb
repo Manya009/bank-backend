{
 "cells": [
  {
   "cell_type": "code",
   "execution_count": 34,
   "outputs": [],
   "source": [
    "from PyPDF2 import PdfFileReader\n",
    "from datetime import datetime, timedelta\n",
    "\n",
    "def check_statement_period_monthwise(start_date_str, end_date_str):\n",
    "    date_format = \"%d-%m-%Y\"\n",
    "\n",
    "    start_date = datetime.strptime(start_date_str, date_format)\n",
    "    end_date = datetime.strptime(end_date_str, date_format)\n",
    "\n",
    "    # Check if start date is the first day of a month\n",
    "    if start_date.day != 1:\n",
    "        print(f\"The statement should start from the first day of a month. Your statement starts on {start_date_str}.\")\n",
    "\n",
    "    # Check if end date is the last day of a month\n",
    "    next_day = end_date + timedelta(days=1)\n",
    "    if next_day.day != 1:\n",
    "        print(f\"The statement should end on the last day of a month. Your statement ends on {end_date_str}.\")\n",
    "\n",
    "    return \"The statement starts from the first day of a month and ends on the last day of a month.\"\n",
    "\n",
    "def extract_dates_and_check_period_AXIS(file_path):    #extraction only for axis\n",
    "    # Extract text from PDF\n",
    "    with open(file_path, \"rb\") as file:\n",
    "        pdf = PdfFileReader(file)\n",
    "        text = \"\"\n",
    "        for page in range(pdf.getNumPages()):\n",
    "            text += pdf.getPage(page).extract_text()\n",
    "\n",
    "    # Extract start and end dates from text\n",
    "    start_date_str = text.split(\"From : \")[1][:10]\n",
    "    end_date_str = text.split(\" To : \")[1][:10]\n",
    "\n",
    "    # Check if statement period covers a complete month\n",
    "    print(check_statement_period_monthwise(start_date_str, end_date_str))\n"
   ],
   "metadata": {
    "collapsed": false,
    "ExecuteTime": {
     "end_time": "2023-07-28T14:12:56.914935600Z",
     "start_time": "2023-07-28T14:12:56.907095Z"
    }
   }
  },
  {
   "cell_type": "code",
   "execution_count": 35,
   "outputs": [
    {
     "name": "stdout",
     "output_type": "stream",
     "text": [
      "The statement starts from the first day of a month and ends on the last day of a month.\n"
     ]
    }
   ],
   "source": [
    "extract_dates_and_check_period(\"axis.pdf\")"
   ],
   "metadata": {
    "collapsed": false,
    "ExecuteTime": {
     "end_time": "2023-07-28T14:12:57.860941800Z",
     "start_time": "2023-07-28T14:12:57.808668Z"
    }
   }
  },
  {
   "cell_type": "code",
   "execution_count": null,
   "outputs": [],
   "source": [],
   "metadata": {
    "collapsed": false
   }
  }
 ],
 "metadata": {
  "kernelspec": {
   "display_name": "Python 3",
   "language": "python",
   "name": "python3"
  },
  "language_info": {
   "codemirror_mode": {
    "name": "ipython",
    "version": 2
   },
   "file_extension": ".py",
   "mimetype": "text/x-python",
   "name": "python",
   "nbconvert_exporter": "python",
   "pygments_lexer": "ipython2",
   "version": "2.7.6"
  }
 },
 "nbformat": 4,
 "nbformat_minor": 0
}
